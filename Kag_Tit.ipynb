{
 "metadata": {
  "name": "",
  "signature": "sha256:fa34e367376858c04bca2277feef9af154bd56595c9afd8afce10d222c1a5da0"
 },
 "nbformat": 3,
 "nbformat_minor": 0,
 "worksheets": [
  {
   "cells": [
    {
     "cell_type": "code",
     "collapsed": false,
     "input": [
      "from time import time\n",
      "import numpy as np\n",
      "import pandas as pd\n",
      "import re\n",
      "from scipy.stats import randint as sp_randint\n",
      "import sklearn.cross_validation as skl_cv\n",
      "import sklearn.linear_model as skl_lm\n",
      "import sklearn.grid_search as skl_gs\n",
      "import sklearn.svm as skl_svm\n",
      "import sklearn.ensemble as skl_ens\n",
      "import sklearn.neural_network as  skl_nn\n",
      "import sklearn.pipeline as skl_pip\n",
      "import sklearn.preprocessing as skl_pre\n",
      "from sklearn import metrics\n",
      "import matplotlib.pyplot as plt\n",
      "import seaborn as sns\n",
      "%matplotlib inline\n",
      "#import nn_class as mynn"
     ],
     "language": "python",
     "metadata": {},
     "outputs": [],
     "prompt_number": 1
    },
    {
     "cell_type": "heading",
     "level": 1,
     "metadata": {},
     "source": [
      "Read data and first look"
     ]
    },
    {
     "cell_type": "code",
     "collapsed": false,
     "input": [
      "df = pd.read_csv('/data/Kaggle/Titanic/data/train.csv') #.append(pd.read_csv('/data/Kaggle/Titanic/data/test.csv'))\n",
      "df.head()"
     ],
     "language": "python",
     "metadata": {},
     "outputs": [
      {
       "html": [
        "<div style=\"max-height:1000px;max-width:1500px;overflow:auto;\">\n",
        "<table border=\"1\" class=\"dataframe\">\n",
        "  <thead>\n",
        "    <tr style=\"text-align: right;\">\n",
        "      <th></th>\n",
        "      <th>PassengerId</th>\n",
        "      <th>Survived</th>\n",
        "      <th>Pclass</th>\n",
        "      <th>Name</th>\n",
        "      <th>Sex</th>\n",
        "      <th>Age</th>\n",
        "      <th>SibSp</th>\n",
        "      <th>Parch</th>\n",
        "      <th>Ticket</th>\n",
        "      <th>Fare</th>\n",
        "      <th>Cabin</th>\n",
        "      <th>Embarked</th>\n",
        "    </tr>\n",
        "  </thead>\n",
        "  <tbody>\n",
        "    <tr>\n",
        "      <th>0</th>\n",
        "      <td>1</td>\n",
        "      <td>0</td>\n",
        "      <td>3</td>\n",
        "      <td>Braund, Mr. Owen Harris</td>\n",
        "      <td>male</td>\n",
        "      <td>22</td>\n",
        "      <td>1</td>\n",
        "      <td>0</td>\n",
        "      <td>A/5 21171</td>\n",
        "      <td>7.2500</td>\n",
        "      <td>NaN</td>\n",
        "      <td>S</td>\n",
        "    </tr>\n",
        "    <tr>\n",
        "      <th>1</th>\n",
        "      <td>2</td>\n",
        "      <td>1</td>\n",
        "      <td>1</td>\n",
        "      <td>Cumings, Mrs. John Bradley (Florence Briggs Th...</td>\n",
        "      <td>female</td>\n",
        "      <td>38</td>\n",
        "      <td>1</td>\n",
        "      <td>0</td>\n",
        "      <td>PC 17599</td>\n",
        "      <td>71.2833</td>\n",
        "      <td>C85</td>\n",
        "      <td>C</td>\n",
        "    </tr>\n",
        "    <tr>\n",
        "      <th>2</th>\n",
        "      <td>3</td>\n",
        "      <td>1</td>\n",
        "      <td>3</td>\n",
        "      <td>Heikkinen, Miss. Laina</td>\n",
        "      <td>female</td>\n",
        "      <td>26</td>\n",
        "      <td>0</td>\n",
        "      <td>0</td>\n",
        "      <td>STON/O2. 3101282</td>\n",
        "      <td>7.9250</td>\n",
        "      <td>NaN</td>\n",
        "      <td>S</td>\n",
        "    </tr>\n",
        "    <tr>\n",
        "      <th>3</th>\n",
        "      <td>4</td>\n",
        "      <td>1</td>\n",
        "      <td>1</td>\n",
        "      <td>Futrelle, Mrs. Jacques Heath (Lily May Peel)</td>\n",
        "      <td>female</td>\n",
        "      <td>35</td>\n",
        "      <td>1</td>\n",
        "      <td>0</td>\n",
        "      <td>113803</td>\n",
        "      <td>53.1000</td>\n",
        "      <td>C123</td>\n",
        "      <td>S</td>\n",
        "    </tr>\n",
        "    <tr>\n",
        "      <th>4</th>\n",
        "      <td>5</td>\n",
        "      <td>0</td>\n",
        "      <td>3</td>\n",
        "      <td>Allen, Mr. William Henry</td>\n",
        "      <td>male</td>\n",
        "      <td>35</td>\n",
        "      <td>0</td>\n",
        "      <td>0</td>\n",
        "      <td>373450</td>\n",
        "      <td>8.0500</td>\n",
        "      <td>NaN</td>\n",
        "      <td>S</td>\n",
        "    </tr>\n",
        "  </tbody>\n",
        "</table>\n",
        "</div>"
       ],
       "metadata": {},
       "output_type": "pyout",
       "prompt_number": 2,
       "text": [
        "   PassengerId  Survived  Pclass  \\\n",
        "0            1         0       3   \n",
        "1            2         1       1   \n",
        "2            3         1       3   \n",
        "3            4         1       1   \n",
        "4            5         0       3   \n",
        "\n",
        "                                                Name     Sex  Age  SibSp  \\\n",
        "0                            Braund, Mr. Owen Harris    male   22      1   \n",
        "1  Cumings, Mrs. John Bradley (Florence Briggs Th...  female   38      1   \n",
        "2                             Heikkinen, Miss. Laina  female   26      0   \n",
        "3       Futrelle, Mrs. Jacques Heath (Lily May Peel)  female   35      1   \n",
        "4                           Allen, Mr. William Henry    male   35      0   \n",
        "\n",
        "   Parch            Ticket     Fare Cabin Embarked  \n",
        "0      0         A/5 21171   7.2500   NaN        S  \n",
        "1      0          PC 17599  71.2833   C85        C  \n",
        "2      0  STON/O2. 3101282   7.9250   NaN        S  \n",
        "3      0            113803  53.1000  C123        S  \n",
        "4      0            373450   8.0500   NaN        S  "
       ]
      }
     ],
     "prompt_number": 2
    },
    {
     "cell_type": "code",
     "collapsed": false,
     "input": [
      "# test dataset for Kaggle:\n",
      "df_test = pd.read_csv('/data/Kaggle/Titanic/data/test.csv')"
     ],
     "language": "python",
     "metadata": {},
     "outputs": [],
     "prompt_number": 3
    },
    {
     "cell_type": "code",
     "collapsed": false,
     "input": [
      "# creating total dataset (without outcome), may be useful fro feature engineering (null Age estimator):\n",
      "df_total = pd.concat([df.drop(['Survived'], axis=1), df_test])\n",
      "df_total.head()"
     ],
     "language": "python",
     "metadata": {},
     "outputs": [
      {
       "html": [
        "<div style=\"max-height:1000px;max-width:1500px;overflow:auto;\">\n",
        "<table border=\"1\" class=\"dataframe\">\n",
        "  <thead>\n",
        "    <tr style=\"text-align: right;\">\n",
        "      <th></th>\n",
        "      <th>PassengerId</th>\n",
        "      <th>Pclass</th>\n",
        "      <th>Name</th>\n",
        "      <th>Sex</th>\n",
        "      <th>Age</th>\n",
        "      <th>SibSp</th>\n",
        "      <th>Parch</th>\n",
        "      <th>Ticket</th>\n",
        "      <th>Fare</th>\n",
        "      <th>Cabin</th>\n",
        "      <th>Embarked</th>\n",
        "    </tr>\n",
        "  </thead>\n",
        "  <tbody>\n",
        "    <tr>\n",
        "      <th>0</th>\n",
        "      <td>1</td>\n",
        "      <td>3</td>\n",
        "      <td>Braund, Mr. Owen Harris</td>\n",
        "      <td>male</td>\n",
        "      <td>22</td>\n",
        "      <td>1</td>\n",
        "      <td>0</td>\n",
        "      <td>A/5 21171</td>\n",
        "      <td>7.2500</td>\n",
        "      <td>NaN</td>\n",
        "      <td>S</td>\n",
        "    </tr>\n",
        "    <tr>\n",
        "      <th>1</th>\n",
        "      <td>2</td>\n",
        "      <td>1</td>\n",
        "      <td>Cumings, Mrs. John Bradley (Florence Briggs Th...</td>\n",
        "      <td>female</td>\n",
        "      <td>38</td>\n",
        "      <td>1</td>\n",
        "      <td>0</td>\n",
        "      <td>PC 17599</td>\n",
        "      <td>71.2833</td>\n",
        "      <td>C85</td>\n",
        "      <td>C</td>\n",
        "    </tr>\n",
        "    <tr>\n",
        "      <th>2</th>\n",
        "      <td>3</td>\n",
        "      <td>3</td>\n",
        "      <td>Heikkinen, Miss. Laina</td>\n",
        "      <td>female</td>\n",
        "      <td>26</td>\n",
        "      <td>0</td>\n",
        "      <td>0</td>\n",
        "      <td>STON/O2. 3101282</td>\n",
        "      <td>7.9250</td>\n",
        "      <td>NaN</td>\n",
        "      <td>S</td>\n",
        "    </tr>\n",
        "    <tr>\n",
        "      <th>3</th>\n",
        "      <td>4</td>\n",
        "      <td>1</td>\n",
        "      <td>Futrelle, Mrs. Jacques Heath (Lily May Peel)</td>\n",
        "      <td>female</td>\n",
        "      <td>35</td>\n",
        "      <td>1</td>\n",
        "      <td>0</td>\n",
        "      <td>113803</td>\n",
        "      <td>53.1000</td>\n",
        "      <td>C123</td>\n",
        "      <td>S</td>\n",
        "    </tr>\n",
        "    <tr>\n",
        "      <th>4</th>\n",
        "      <td>5</td>\n",
        "      <td>3</td>\n",
        "      <td>Allen, Mr. William Henry</td>\n",
        "      <td>male</td>\n",
        "      <td>35</td>\n",
        "      <td>0</td>\n",
        "      <td>0</td>\n",
        "      <td>373450</td>\n",
        "      <td>8.0500</td>\n",
        "      <td>NaN</td>\n",
        "      <td>S</td>\n",
        "    </tr>\n",
        "  </tbody>\n",
        "</table>\n",
        "</div>"
       ],
       "metadata": {},
       "output_type": "pyout",
       "prompt_number": 4,
       "text": [
        "   PassengerId  Pclass                                               Name  \\\n",
        "0            1       3                            Braund, Mr. Owen Harris   \n",
        "1            2       1  Cumings, Mrs. John Bradley (Florence Briggs Th...   \n",
        "2            3       3                             Heikkinen, Miss. Laina   \n",
        "3            4       1       Futrelle, Mrs. Jacques Heath (Lily May Peel)   \n",
        "4            5       3                           Allen, Mr. William Henry   \n",
        "\n",
        "      Sex  Age  SibSp  Parch            Ticket     Fare Cabin Embarked  \n",
        "0    male   22      1      0         A/5 21171   7.2500   NaN        S  \n",
        "1  female   38      1      0          PC 17599  71.2833   C85        C  \n",
        "2  female   26      0      0  STON/O2. 3101282   7.9250   NaN        S  \n",
        "3  female   35      1      0            113803  53.1000  C123        S  \n",
        "4    male   35      0      0            373450   8.0500   NaN        S  "
       ]
      }
     ],
     "prompt_number": 4
    },
    {
     "cell_type": "heading",
     "level": 3,
     "metadata": {},
     "source": [
      "Exploring data:"
     ]
    },
    {
     "cell_type": "code",
     "collapsed": false,
     "input": [
      "df.shape, df_test.shape"
     ],
     "language": "python",
     "metadata": {},
     "outputs": [
      {
       "metadata": {},
       "output_type": "pyout",
       "prompt_number": 5,
       "text": [
        "((891, 12), (418, 11))"
       ]
      }
     ],
     "prompt_number": 5
    },
    {
     "cell_type": "code",
     "collapsed": false,
     "input": [
      "# percentage of null data in train and test sets:\n",
      "for col in df.columns:\n",
      "    if col in set(df.columns.values).intersection(df_test.columns.values):\n",
      "        print(\"{:15s} {:.1f}%  {:.1f}%\".format(col, float(df[col].isnull().sum()) / df.shape[0] * 100,\n",
      "                                         float(df_test[col].isnull().sum()) / df_test.shape[0] * 100))\n",
      "    else:\n",
      "        print(\"{:15s} {:.1f}%    -  \".format(col, float(df[col].isnull().sum()) / df.shape[0] * 100))"
     ],
     "language": "python",
     "metadata": {},
     "outputs": [
      {
       "output_type": "stream",
       "stream": "stdout",
       "text": [
        "PassengerId     0.0%  0.0%\n",
        "Survived        0.0%    -  \n",
        "Pclass          0.0%  0.0%\n",
        "Name            0.0%  0.0%\n",
        "Sex             0.0%  0.0%\n",
        "Age             19.9%  20.6%\n",
        "SibSp           0.0%  0.0%\n",
        "Parch           0.0%  0.0%\n",
        "Ticket          0.0%  0.0%\n",
        "Fare            0.0%  0.2%\n",
        "Cabin           77.1%  78.2%\n",
        "Embarked        0.2%  0.0%\n"
       ]
      }
     ],
     "prompt_number": 6
    },
    {
     "cell_type": "code",
     "collapsed": false,
     "input": [
      "for col in df_total.columns:\n",
      "    print '*** Feature: ',col,' ***'\n",
      "    print '    number of uniques:',len(df_total[col].unique())\n",
      "    print 'Categories    Counts\\n',pd.value_counts(df[col]),'\\n\\n'"
     ],
     "language": "python",
     "metadata": {},
     "outputs": [
      {
       "output_type": "stream",
       "stream": "stdout",
       "text": [
        "*** Feature:  PassengerId  ***\n",
        "    number of uniques: 1309\n",
        "Categories    Counts\n",
        "891    1\n",
        "293    1\n",
        "304    1\n",
        "303    1\n",
        "302    1\n",
        "301    1\n",
        "300    1\n",
        "299    1\n",
        "298    1\n",
        "297    1\n",
        "296    1\n",
        "295    1\n",
        "294    1\n",
        "292    1\n",
        "306    1\n",
        "291    1\n",
        "290    1\n",
        "289    1\n",
        "288    1\n",
        "287    1\n",
        "286    1\n",
        "285    1\n",
        "284    1\n",
        "283    1\n",
        "282    1\n",
        "281    1\n",
        "305    1\n",
        "307    1\n",
        "279    1\n",
        "321    1\n",
        "      ..\n",
        "561    1\n",
        "560    1\n",
        "584    1\n",
        "585    1\n",
        "586    1\n",
        "587    1\n",
        "610    1\n",
        "609    1\n",
        "608    1\n",
        "607    1\n",
        "606    1\n",
        "605    1\n",
        "604    1\n",
        "603    1\n",
        "602    1\n",
        "601    1\n",
        "600    1\n",
        "599    1\n",
        "598    1\n",
        "597    1\n",
        "596    1\n",
        "595    1\n",
        "594    1\n",
        "593    1\n",
        "592    1\n",
        "591    1\n",
        "590    1\n",
        "589    1\n",
        "588    1\n",
        "1      1\n",
        "dtype: int64 \n",
        "\n",
        "\n",
        "*** Feature:  Pclass  ***\n",
        "    number of uniques: 3\n",
        "Categories    Counts\n",
        "3    491\n",
        "1    216\n",
        "2    184\n",
        "dtype: int64 \n",
        "\n",
        "\n",
        "*** Feature:  Name  ***\n",
        "    number of uniques: 1307\n",
        "Categories    Counts\n",
        "Graham, Mr. George Edward                                  1\n",
        "Elias, Mr. Tannous                                         1\n",
        "Madill, Miss. Georgette Alexandra                          1\n",
        "Cumings, Mrs. John Bradley (Florence Briggs Thayer)        1\n",
        "Beane, Mrs. Edward (Ethel Clarke)                          1\n",
        "Roebling, Mr. Washington Augustus II                       1\n",
        "Moran, Mr. James                                           1\n",
        "Padro y Manent, Mr. Julian                                 1\n",
        "Scanlan, Mr. James                                         1\n",
        "Ali, Mr. William                                           1\n",
        "Weisz, Mrs. Leopold (Mathilde Francoise Pede)              1\n",
        "Abbing, Mr. Anthony                                        1\n",
        "Lahtinen, Mrs. William (Anna Sylfven)                      1\n",
        "Frost, Mr. Anthony Wood \"Archie\"                           1\n",
        "Lang, Mr. Fang                                             1\n",
        "Razi, Mr. Raihed                                           1\n",
        "Corn, Mr. Harry                                            1\n",
        "Haas, Miss. Aloisia                                        1\n",
        "Harrington, Mr. Charles H                                  1\n",
        "McCoy, Miss. Agnes                                         1\n",
        "Nenkoff, Mr. Christo                                       1\n",
        "Hakkarainen, Mrs. Pekka Pietari (Elin Matilda Dolck)       1\n",
        "Givard, Mr. Hans Kristensen                                1\n",
        "Rogers, Mr. William John                                   1\n",
        "Crease, Mr. Ernest James                                   1\n",
        "Celotti, Mr. Francesco                                     1\n",
        "Buss, Miss. Kate                                           1\n",
        "Olsen, Mr. Henry Margido                                   1\n",
        "Sedgwick, Mr. Charles Frederick Waddington                 1\n",
        "Chapman, Mr. Charles Henry                                 1\n",
        "                                                          ..\n",
        "Garside, Miss. Ethel                                       1\n",
        "Caram, Mrs. Joseph (Maria Elias)                           1\n",
        "Nilsson, Miss. Helmina Josefina                            1\n",
        "Molson, Mr. Harry Markland                                 1\n",
        "Peduzzi, Mr. Joseph                                        1\n",
        "Olsson, Miss. Elina                                        1\n",
        "Lines, Miss. Mary Conover                                  1\n",
        "Dodge, Master. Washington                                  1\n",
        "Dahlberg, Miss. Gerda Ulrika                               1\n",
        "Lurette, Miss. Elise                                       1\n",
        "Backstrom, Mrs. Karl Alfred (Maria Mathilda Gustafsson)    1\n",
        "Johnson, Mr. William Cahoone Jr                            1\n",
        "Rouse, Mr. Richard Henry                                   1\n",
        "Cohen, Mr. Gurshon \"Gus\"                                   1\n",
        "Kantor, Mrs. Sinai (Miriam Sternin)                        1\n",
        "McEvoy, Mr. Michael                                        1\n",
        "Newell, Mr. Arthur Webster                                 1\n",
        "Shelley, Mrs. William (Imanita Parrish Hall)               1\n",
        "Lundahl, Mr. Johan Svensson                                1\n",
        "Tomlin, Mr. Ernest Portage                                 1\n",
        "Kink-Heilmann, Miss. Luise Gretchen                        1\n",
        "Thorneycroft, Mrs. Percival (Florence Kate White)          1\n",
        "Barbara, Miss. Saiide                                      1\n",
        "Najib, Miss. Adele Kiamie \"Jane\"                           1\n",
        "Danoff, Mr. Yoto                                           1\n",
        "Sandstrom, Miss. Marguerite Rut                            1\n",
        "Ward, Miss. Anna                                           1\n",
        "Gill, Mr. John William                                     1\n",
        "Alhomaki, Mr. Ilmari Rudolf                                1\n",
        "Mellors, Mr. William John                                  1\n",
        "dtype: int64 \n",
        "\n",
        "\n",
        "*** Feature:  Sex  ***\n",
        "    number of uniques: 2\n",
        "Categories    Counts\n",
        "male      577\n",
        "female    314\n",
        "dtype: int64 \n",
        "\n",
        "\n",
        "*** Feature:  Age  ***\n",
        "    number of uniques: 99\n",
        "Categories    Counts\n",
        "24.00    30\n",
        "22.00    27\n",
        "18.00    26\n",
        "28.00    25\n",
        "30.00    25\n",
        "19.00    25\n",
        "21.00    24\n",
        "25.00    23\n",
        "36.00    22\n",
        "29.00    20\n",
        "32.00    18\n",
        "35.00    18\n",
        "27.00    18\n",
        "26.00    18\n",
        "16.00    17\n",
        "31.00    17\n",
        "33.00    15\n",
        "20.00    15\n",
        "34.00    15\n",
        "23.00    15\n",
        "39.00    14\n",
        "17.00    13\n",
        "42.00    13\n",
        "40.00    13\n",
        "45.00    12\n",
        "38.00    11\n",
        "4.00     10\n",
        "50.00    10\n",
        "2.00     10\n",
        "47.00     9\n",
        "         ..\n",
        "40.50     2\n",
        "10.00     2\n",
        "13.00     2\n",
        "45.50     2\n",
        "64.00     2\n",
        "71.00     2\n",
        "70.00     2\n",
        "30.50     2\n",
        "0.83      2\n",
        "63.00     2\n",
        "59.00     2\n",
        "57.00     2\n",
        "55.00     2\n",
        "0.75      2\n",
        "0.42      1\n",
        "53.00     1\n",
        "70.50     1\n",
        "14.50     1\n",
        "0.92      1\n",
        "74.00     1\n",
        "36.50     1\n",
        "80.00     1\n",
        "12.00     1\n",
        "55.50     1\n",
        "34.50     1\n",
        "24.50     1\n",
        "66.00     1\n",
        "23.50     1\n",
        "0.67      1\n",
        "20.50     1\n",
        "dtype: int64 \n",
        "\n",
        "\n",
        "*** Feature:  SibSp  ***\n",
        "    number of uniques: 7\n",
        "Categories    Counts\n",
        "0    608\n",
        "1    209\n",
        "2     28\n",
        "4     18\n",
        "3     16\n",
        "8      7\n",
        "5      5\n",
        "dtype: int64 \n",
        "\n",
        "\n",
        "*** Feature:  Parch  ***\n",
        "    number of uniques: 8\n",
        "Categories    Counts\n",
        "0    678\n",
        "1    118\n",
        "2     80\n",
        "5      5\n",
        "3      5\n",
        "4      4\n",
        "6      1\n",
        "dtype: int64 \n",
        "\n",
        "\n",
        "*** Feature:  Ticket  ***\n",
        "    number of uniques: 929\n",
        "Categories    Counts\n",
        "CA. 2343             7\n",
        "347082               7\n",
        "1601                 7\n",
        "347088               6\n",
        "CA 2144              6\n",
        "3101295              6\n",
        "382652               5\n",
        "S.O.C. 14879         5\n",
        "PC 17757             4\n",
        "4133                 4\n",
        "LINE                 4\n",
        "349909               4\n",
        "347077               4\n",
        "W./C. 6608           4\n",
        "113760               4\n",
        "2666                 4\n",
        "113781               4\n",
        "19950                4\n",
        "17421                4\n",
        "347742               3\n",
        "239853               3\n",
        "110152               3\n",
        "24160                3\n",
        "13502                3\n",
        "PC 17572             3\n",
        "C.A. 34651           3\n",
        "248727               3\n",
        "35273                3\n",
        "F.C.C. 13529         3\n",
        "PC 17755             3\n",
        "                    ..\n",
        "330877               1\n",
        "315094               1\n",
        "236852               1\n",
        "4137                 1\n",
        "4136                 1\n",
        "226593               1\n",
        "4134                 1\n",
        "374746               1\n",
        "110813               1\n",
        "C.A. 6212            1\n",
        "349219               1\n",
        "34218                1\n",
        "343120               1\n",
        "315086               1\n",
        "SC/AH 3085           1\n",
        "STON/O 2. 3101273    1\n",
        "345777               1\n",
        "STON/O 2. 3101274    1\n",
        "STON/O 2. 3101275    1\n",
        "113794               1\n",
        "2649                 1\n",
        "374887               1\n",
        "349213               1\n",
        "349210               1\n",
        "349242               1\n",
        "349216               1\n",
        "112052               1\n",
        "315088               1\n",
        "349215               1\n",
        "W./C. 14258          1\n",
        "dtype: int64 \n",
        "\n",
        "\n",
        "*** Feature:  Fare  ***\n",
        "    number of uniques: 282\n",
        "Categories    Counts\n",
        "8.0500     43\n",
        "13.0000    42\n",
        "7.8958     38\n",
        "7.7500     34\n",
        "26.0000    31\n",
        "10.5000    24\n",
        "7.9250     18\n",
        "7.7750     16\n",
        "7.2292     15\n",
        "26.5500    15\n",
        "0.0000     15\n",
        "7.2500     13\n",
        "7.8542     13\n",
        "8.6625     13\n",
        "7.2250     12\n",
        "16.1000     9\n",
        "9.5000      9\n",
        "15.5000     8\n",
        "24.1500     8\n",
        "14.4542     7\n",
        "14.5000     7\n",
        "56.4958     7\n",
        "69.5500     7\n",
        "52.0000     7\n",
        "31.2750     7\n",
        "7.0500      7\n",
        "27.9000     6\n",
        "21.0000     6\n",
        "26.2500     6\n",
        "30.0000     6\n",
        "           ..\n",
        "5.0000      1\n",
        "71.2833     1\n",
        "9.4833      1\n",
        "59.4000     1\n",
        "25.5875     1\n",
        "15.0458     1\n",
        "7.7875      1\n",
        "8.4042      1\n",
        "12.0000     1\n",
        "12.2750     1\n",
        "42.4000     1\n",
        "8.1375      1\n",
        "14.0000     1\n",
        "21.6792     1\n",
        "12.5250     1\n",
        "15.0000     1\n",
        "28.7125     1\n",
        "61.1750     1\n",
        "6.2375      1\n",
        "15.1000     1\n",
        "39.4000     1\n",
        "81.8583     1\n",
        "61.9792     1\n",
        "7.8000      1\n",
        "22.0250     1\n",
        "47.1000     1\n",
        "13.4167     1\n",
        "14.1083     1\n",
        "15.5500     1\n",
        "13.7917     1\n",
        "dtype: int64 \n",
        "\n",
        "\n",
        "*** Feature:  Cabin  ***\n",
        "    number of uniques: 187\n",
        "Categories    Counts\n",
        "C23 C25 C27        4\n",
        "G6                 4\n",
        "B96 B98            4\n",
        "D                  3\n",
        "C22 C26            3\n",
        "E101               3\n",
        "F2                 3\n",
        "F33                3\n",
        "B57 B59 B63 B66    2\n",
        "C68                2\n",
        "B58 B60            2\n",
        "E121               2\n",
        "D20                2\n",
        "E8                 2\n",
        "E44                2\n",
        "B77                2\n",
        "C65                2\n",
        "D26                2\n",
        "E24                2\n",
        "E25                2\n",
        "B20                2\n",
        "C93                2\n",
        "D33                2\n",
        "E67                2\n",
        "D35                2\n",
        "D36                2\n",
        "C52                2\n",
        "F4                 2\n",
        "C125               2\n",
        "C124               2\n",
        "                  ..\n",
        "F G63              1\n",
        "A6                 1\n",
        "D45                1\n",
        "D6                 1\n",
        "D56                1\n",
        "C101               1\n",
        "C54                1\n",
        "D28                1\n",
        "D37                1\n",
        "B102               1\n",
        "D30                1\n",
        "E17                1\n",
        "E58                1\n",
        "F E69              1\n",
        "D10 D12            1\n",
        "E50                1\n",
        "A14                1\n",
        "C91                1\n",
        "A16                1\n",
        "B38                1\n",
        "B39                1\n",
        "C95                1\n",
        "B78                1\n",
        "B79                1\n",
        "C99                1\n",
        "B37                1\n",
        "A19                1\n",
        "E12                1\n",
        "A7                 1\n",
        "D15                1\n",
        "dtype: int64"
       ]
      },
      {
       "output_type": "stream",
       "stream": "stdout",
       "text": [
        " \n",
        "\n",
        "\n",
        "*** Feature:  Embarked  ***\n",
        "    number of uniques: 4\n",
        "Categories    Counts\n",
        "S    644\n",
        "C    168\n",
        "Q     77\n",
        "dtype: int64 \n",
        "\n",
        "\n"
       ]
      }
     ],
     "prompt_number": 7
    },
    {
     "cell_type": "heading",
     "level": 3,
     "metadata": {},
     "source": [
      "Data visualization:"
     ]
    },
    {
     "cell_type": "code",
     "collapsed": false,
     "input": [
      "#sns.set(style=\"ticks\") # for article figures\n",
      "sns.set() # for screen display\n",
      "sns.color_palette(\"deep\")\n",
      "sns.set_context(\"notebook\", font_scale=1.5, rc={\"lines.linewidth\": 2.5})"
     ],
     "language": "python",
     "metadata": {},
     "outputs": [],
     "prompt_number": 8
    },
    {
     "cell_type": "code",
     "collapsed": false,
     "input": [
      "df.groupby('Survived')['Fare'].hist(bins=30)"
     ],
     "language": "python",
     "metadata": {},
     "outputs": [
      {
       "metadata": {},
       "output_type": "pyout",
       "prompt_number": 11,
       "text": [
        "Survived\n",
        "0    Axes(0.125,0.125;0.775x0.775)\n",
        "1    Axes(0.125,0.125;0.775x0.775)\n",
        "Name: Fare, dtype: object"
       ]
      },
      {
       "metadata": {},
       "output_type": "display_data",
       "png": "[encoded data removed]",
       "text": [
        "<matplotlib.figure.Figure at 0x7f7be317e6d0>"
       ]
      }
     ],
     "prompt_number": 11
    },
    {
     "cell_type": "heading",
     "level": 1,
     "metadata": {},
     "source": [
      "Feature engineering:"
     ]
    },
    {
     "cell_type": "code",
     "collapsed": false,
     "input": [
      "# Drops 'Ticket' beacause useless and 'Cabin' because too many nulls.\n",
      "#df = df.drop(['Ticket','Cabin'], axis=1)\n",
      "#df.head()"
     ],
     "language": "python",
     "metadata": {},
     "outputs": [],
     "prompt_number": 12
    },
    {
     "cell_type": "code",
     "collapsed": false,
     "input": [
      "# Substitute the 0 Fare with their class average:\n",
      "# the calculation of the means for each class is done for the total dataset and therefore remains here:\n",
      "classmeans = df_total.groupby('Pclass')['Age'].median()\n",
      "classmeans\n",
      "# first replace 0 by NaN, then by the mean:\n",
      "#df.Fare = df.Fare.map(lambda x: np.nan if x==0 else x)\n",
      "#df.Fare = df[['Fare', 'Pclass']].apply(lambda x: classmeans[x['Pclass']] if pd.isnull(x['Fare']) else x['Fare'], axis=1)"
     ],
     "language": "python",
     "metadata": {},
     "outputs": [
      {
       "metadata": {},
       "output_type": "pyout",
       "prompt_number": 13,
       "text": [
        "Pclass\n",
        "1    39\n",
        "2    29\n",
        "3    24\n",
        "Name: Age, dtype: float64"
       ]
      }
     ],
     "prompt_number": 13
    },
    {
     "cell_type": "code",
     "collapsed": false,
     "input": [
      "# New column with the title of the person:\n",
      "#    classic, gives 0.835789 in first cv_scores in gradient boosting\n",
      "\"\"\" def F_title_classif(name):\n",
      "    if re.compile(r'Mr\\.').search(name) is not None:\n",
      "        return 'Mr'\n",
      "    elif re.compile(r'Mrs\\.').search(name) is not None:\n",
      "        return 'Mrs'\n",
      "    elif re.compile(r'Miss\\.').search(name) is not None:\n",
      "        return 'Miss'\n",
      "    elif re.compile(r'Master').search(name) is not None:\n",
      "        return 'Master'\n",
      "    else:\n",
      "        return 'Other' \"\"\"\n",
      "\n",
      "#    complex, gives 0.836912665986 in first cv_scores in gradient boosting\n",
      "def F_title_classif(name):\n",
      "    if re.search(r'Mr\\.', name) is not None:\n",
      "        return 'Mr'\n",
      "    elif re.search(r'(Mrs\\.)|(Mme\\.)', name) is not None:\n",
      "        return 'Mrs'\n",
      "    elif re.search(r'(Miss\\.)|(Ms\\.)|(Mlle\\.)', name) is not None:\n",
      "        return 'Miss'\n",
      "    elif re.search(r'Master', name) is not None:\n",
      "        return 'Master'\n",
      "    elif re.search(r'(Col\\.)|(Major\\.)|(Capt\\.)', name) is not None:\n",
      "        return 'Col'\n",
      "    elif re.search(r'(Dona\\.)|(Lady\\.)|(the Countess\\.)', name) is not None:\n",
      "        return 'Dona'\n",
      "    elif re.search(r'Rev\\.', name) is not None:\n",
      "        return 'Rev'\n",
      "    elif re.search(r'Dr\\.', name) is not None:\n",
      "        return 'Dr'\n",
      "    elif re.search(r'(Don\\.)|(Sir\\.)|(Jonkheer\\.)', name) is not None:\n",
      "        return 'Don'\n",
      "    else:\n",
      "        return 'Other'\n",
      "\n",
      "#df['Title'] = df['Name'].apply(F_title_classif)\n",
      "#df.head()\n",
      "# df_total is treated here because it is needed for total median_ages:\n",
      "df_total['Title'] = df_total['Name'].apply(F_title_classif)\n",
      "df_total.head()"
     ],
     "language": "python",
     "metadata": {},
     "outputs": [
      {
       "html": [
        "<div style=\"max-height:1000px;max-width:1500px;overflow:auto;\">\n",
        "<table border=\"1\" class=\"dataframe\">\n",
        "  <thead>\n",
        "    <tr style=\"text-align: right;\">\n",
        "      <th></th>\n",
        "      <th>PassengerId</th>\n",
        "      <th>Pclass</th>\n",
        "      <th>Name</th>\n",
        "      <th>Sex</th>\n",
        "      <th>Age</th>\n",
        "      <th>SibSp</th>\n",
        "      <th>Parch</th>\n",
        "      <th>Ticket</th>\n",
        "      <th>Fare</th>\n",
        "      <th>Cabin</th>\n",
        "      <th>Embarked</th>\n",
        "      <th>Title</th>\n",
        "    </tr>\n",
        "  </thead>\n",
        "  <tbody>\n",
        "    <tr>\n",
        "      <th>0</th>\n",
        "      <td>1</td>\n",
        "      <td>3</td>\n",
        "      <td>Braund, Mr. Owen Harris</td>\n",
        "      <td>male</td>\n",
        "      <td>22</td>\n",
        "      <td>1</td>\n",
        "      <td>0</td>\n",
        "      <td>A/5 21171</td>\n",
        "      <td>7.2500</td>\n",
        "      <td>NaN</td>\n",
        "      <td>S</td>\n",
        "      <td>Mr</td>\n",
        "    </tr>\n",
        "    <tr>\n",
        "      <th>1</th>\n",
        "      <td>2</td>\n",
        "      <td>1</td>\n",
        "      <td>Cumings, Mrs. John Bradley (Florence Briggs Th...</td>\n",
        "      <td>female</td>\n",
        "      <td>38</td>\n",
        "      <td>1</td>\n",
        "      <td>0</td>\n",
        "      <td>PC 17599</td>\n",
        "      <td>71.2833</td>\n",
        "      <td>C85</td>\n",
        "      <td>C</td>\n",
        "      <td>Mrs</td>\n",
        "    </tr>\n",
        "    <tr>\n",
        "      <th>2</th>\n",
        "      <td>3</td>\n",
        "      <td>3</td>\n",
        "      <td>Heikkinen, Miss. Laina</td>\n",
        "      <td>female</td>\n",
        "      <td>26</td>\n",
        "      <td>0</td>\n",
        "      <td>0</td>\n",
        "      <td>STON/O2. 3101282</td>\n",
        "      <td>7.9250</td>\n",
        "      <td>NaN</td>\n",
        "      <td>S</td>\n",
        "      <td>Miss</td>\n",
        "    </tr>\n",
        "    <tr>\n",
        "      <th>3</th>\n",
        "      <td>4</td>\n",
        "      <td>1</td>\n",
        "      <td>Futrelle, Mrs. Jacques Heath (Lily May Peel)</td>\n",
        "      <td>female</td>\n",
        "      <td>35</td>\n",
        "      <td>1</td>\n",
        "      <td>0</td>\n",
        "      <td>113803</td>\n",
        "      <td>53.1000</td>\n",
        "      <td>C123</td>\n",
        "      <td>S</td>\n",
        "      <td>Mrs</td>\n",
        "    </tr>\n",
        "    <tr>\n",
        "      <th>4</th>\n",
        "      <td>5</td>\n",
        "      <td>3</td>\n",
        "      <td>Allen, Mr. William Henry</td>\n",
        "      <td>male</td>\n",
        "      <td>35</td>\n",
        "      <td>0</td>\n",
        "      <td>0</td>\n",
        "      <td>373450</td>\n",
        "      <td>8.0500</td>\n",
        "      <td>NaN</td>\n",
        "      <td>S</td>\n",
        "      <td>Mr</td>\n",
        "    </tr>\n",
        "  </tbody>\n",
        "</table>\n",
        "</div>"
       ],
       "metadata": {},
       "output_type": "pyout",
       "prompt_number": 14,
       "text": [
        "   PassengerId  Pclass                                               Name  \\\n",
        "0            1       3                            Braund, Mr. Owen Harris   \n",
        "1            2       1  Cumings, Mrs. John Bradley (Florence Briggs Th...   \n",
        "2            3       3                             Heikkinen, Miss. Laina   \n",
        "3            4       1       Futrelle, Mrs. Jacques Heath (Lily May Peel)   \n",
        "4            5       3                           Allen, Mr. William Henry   \n",
        "\n",
        "      Sex  Age  SibSp  Parch            Ticket     Fare Cabin Embarked Title  \n",
        "0    male   22      1      0         A/5 21171   7.2500   NaN        S    Mr  \n",
        "1  female   38      1      0          PC 17599  71.2833   C85        C   Mrs  \n",
        "2  female   26      0      0  STON/O2. 3101282   7.9250   NaN        S  Miss  \n",
        "3  female   35      1      0            113803  53.1000  C123        S   Mrs  \n",
        "4    male   35      0      0            373450   8.0500   NaN        S    Mr  "
       ]
      }
     ],
     "prompt_number": 14
    },
    {
     "cell_type": "code",
     "collapsed": false,
     "input": [
      "# We will fill the NaN ages with the medians in subgroups:\n",
      "median_ages = {}\n",
      "for title in df_total['Title'].unique():\n",
      "    for sex in df_total['Sex'].unique():\n",
      "        for pclass in df_total['Pclass'].unique():\n",
      "            mask = (df_total['Sex'] == sex) & (df_total['Pclass'] == pclass) & (df_total['Title'] == title)\n",
      "            key = '%s_%s_%s' % (title,sex,str(pclass))\n",
      "            # stores the median in a dictionary:\n",
      "            #     option 1: median for title-sex-pclass\n",
      "            #median_ages[key] = df_total[mask]['Age'].dropna().median()\n",
      "            #     option 2: median for title:\n",
      "            median_ages[key] = df_total[df_total['Title'] == title]['Age'].dropna().median()\n",
      "            if np.isnan(median_ages[key]):\n",
      "                median_ages[key] = df_total[df_total['Title'] == title]['Age'].dropna().median()\n",
      "#for key in median_ages:\n",
      "#    print key, median_ages[key]\n",
      "\n",
      "def F_estimate_NaN_ages(df, median_ages):\n",
      "    for title in df['Title'].unique():\n",
      "        for sex in df['Sex'].unique():\n",
      "            for pclass in df['Pclass'].unique():\n",
      "                mask = (df['Sex'] == sex) & (df['Pclass'] == pclass) & (df['Title'] == title)\n",
      "                key = '%s_%s_%s' % (title,sex,str(pclass))              \n",
      "                # replaces the null Age values by the medians of their group:\n",
      "                df.loc[ (df.Age.isnull()) & mask, 'Age'] = median_ages[key]\n",
      "    return df\n",
      "\n",
      "#df = F_estimate_NaN_ages(df, median_ages)"
     ],
     "language": "python",
     "metadata": {},
     "outputs": [],
     "prompt_number": 16
    },
    {
     "cell_type": "code",
     "collapsed": false,
     "input": [
      "# new feature family size:\n",
      "#df['Fam_size'] = df['SibSp'] + df['Parch'] + 1\n",
      "#df[['SibSp', 'Parch', 'Fam_size', 'Fare']]"
     ],
     "language": "python",
     "metadata": {},
     "outputs": [],
     "prompt_number": 17
    },
    {
     "cell_type": "code",
     "collapsed": false,
     "input": [
      "# new feature Fare / Familysize\n",
      "#df['Fare_Fam'] = df['Fare'] / df['Fam_size']\n",
      "#df[['Fare', 'Fam_size', 'Fare_Fam']]"
     ],
     "language": "python",
     "metadata": {},
     "outputs": [],
     "prompt_number": 18
    },
    {
     "cell_type": "code",
     "collapsed": false,
     "input": [
      "# transform continuous feature 'Fare' in categories\n",
      "def F_categ_Fare(Fare):\n",
      "    if Fare < 35.:\n",
      "        return 1\n",
      "    #else:\n",
      "    #    return 2\n",
      "    elif Fare < 150.:\n",
      "        return 2\n",
      "    else:\n",
      "        return 3\n",
      "    #elif Fare < 200.:\n",
      "    #    return 3\n",
      "    #elif Fare < 300.:\n",
      "    #    return 4\n",
      "    #else:\n",
      "    #    return 5 \"\"\"\n",
      "  \n",
      "#df['Fare'] = df['Fare'].apply(F_categ_Fare)"
     ],
     "language": "python",
     "metadata": {},
     "outputs": [],
     "prompt_number": 19
    },
    {
     "cell_type": "code",
     "collapsed": false,
     "input": [
      "Categorical_features = ['Embarked', 'Sex', 'Title'] # , 'Fare'] \n",
      "\n",
      "def F_onehot_df(df, Categorical_features, frac_min = 1.e-10, ncat_min = 1.e+10):\n",
      "    \"\"\" For each categorical feature, the categories with more than a fraction of counts (frac_min) are considered,\n",
      "        with a minimum number of categories (ncat_min) always selected.\n",
      "        Returns the dataframe without old features and with new binary features, \n",
      "        and returns the categories that have been selected. \"\"\"\n",
      "    dfcat = pd.DataFrame()\n",
      "    selected_categ = {}\n",
      "    for col in Categorical_features:\n",
      "        counts = pd.value_counts(df[col])\n",
      "        countsmin = counts.iloc[min(len(counts)-1,ncat_min-1)]\n",
      "        fractions = np.array(counts.values, dtype=float)/sum(counts)\n",
      "        mask_ncat_min = df[col].isin(counts[counts >= countsmin].index)\n",
      "        mask_frac_min = df[col].isin(counts[fractions >= frac_min].index)\n",
      "        mask = mask_frac_min | mask_ncat_min\n",
      "        selected_categ[col] = df[col][mask].unique()\n",
      "        dfcat = pd.concat([dfcat, pd.get_dummies(df[col][mask], prefix=col)], axis=1) #, keys=df.columns)\n",
      "        # removes one column if all categories are represented:\n",
      "        if len(df[col].unique()) == len(df[col][mask].unique()):\n",
      "            col2rm = '%s_%s' % (col, df[col].unique()[0])\n",
      "            dfcat = dfcat.drop(col2rm, axis=1)\n",
      "            selected_categ[col] = np.delete(selected_categ[col], 0)\n",
      "        \n",
      "    dfcat = dfcat.fillna(0)\n",
      "    \n",
      "    # Remove original columns of categorical features and joins with dfcat\n",
      "    df.drop(Categorical_features, axis=1, inplace=True)\n",
      "    df = pd.concat([df, dfcat], axis=1)\n",
      "     \n",
      "    return df, selected_categ\n",
      "\n",
      "#df, selected_categ = F_onehot_df(df, Categorical_features)\n",
      "#df.shape\n",
      "# we only call the selected_categ because that is needed for the feat eng of df_test:\n",
      "#selected_categ = F_onehot_df(df, Categorical_features)[1]"
     ],
     "language": "python",
     "metadata": {},
     "outputs": [],
     "prompt_number": 20
    },
    {
     "cell_type": "code",
     "collapsed": false,
     "input": [
      "def F_onehot_df_given_categ(df, Categorical_features, selected_categ):\n",
      "    \"\"\" Only the selected_categ are considered for the one hot. \"\"\" \n",
      "    dfcat = pd.DataFrame()\n",
      "    for col in Categorical_features:\n",
      "        for cat in selected_categ[col]:\n",
      "          colname = '%s_%s' % (col, cat)\n",
      "          #dfcat[colname] = df[col].apply(F_onehot, args=[cat])\n",
      "          dfcat[colname] = df[col].apply(lambda elem: 1 if elem == cat else 0)\n",
      "    # Remove original columns of categorical features and joins with dfcat\n",
      "    df.drop(Categorical_features, axis=1, inplace=True)\n",
      "    df = pd.concat([df, dfcat], axis=1)\n",
      "     \n",
      "    return df"
     ],
     "language": "python",
     "metadata": {},
     "outputs": [],
     "prompt_number": 21
    },
    {
     "cell_type": "code",
     "collapsed": false,
     "input": [
      "def feature_eng(df, test=False, selected_categ=None):\n",
      "    # new column title:\n",
      "    df['Title'] = df['Name'].apply(F_title_classif)\n",
      "\n",
      "    # drop useless columns:\n",
      "    df = df.drop(['Ticket', 'Cabin', 'Name'], axis=1)\n",
      "    \n",
      "    # fill empty fares with their class average:\n",
      "    df.Fare = df.Fare.map(lambda x: np.nan if x==0 else x)\n",
      "    df.Fare = df[['Fare', 'Pclass']].apply(lambda x: classmeans[x['Pclass']] if pd.isnull(x['Fare']) else x['Fare'], axis=1)\n",
      "    \n",
      "    # categorizes feature 'Fare':\n",
      "    #df['Fare'] = df['Fare'].apply(F_categ_Fare)\n",
      "    \n",
      "    # fill empty ages:\n",
      "    df = F_estimate_NaN_ages(df, median_ages)\n",
      "\n",
      "    # new column Age_Class:\n",
      "    df['Age_Class'] = df.Age * df.Pclass\n",
      "    \n",
      "    # new temporary feature family size:\n",
      "    #df['Fam_size'] = df['SibSp'] + df['Parch'] + 1\n",
      "    \n",
      "    # new feature Fare / Familysize\n",
      "    #df['Fare_Fam'] = df['Fare'] / df['Fam_size']\n",
      "    \n",
      "    # removes features\n",
      "    #df = df.drop(['Fam_size'], axis=1)\n",
      "    \n",
      "    df = df.fillna(df.mean()) # useles??\n",
      "    \n",
      "    # Removes rows with NaNs (only for train set):\n",
      "    if not test:\n",
      "        df = df.dropna() # only nulls in 'Embarked' remain\n",
      "    \n",
      "    # one-hot on categorical features:\n",
      "    print 'Categorical_features:', Categorical_features\n",
      "    if test:\n",
      "        df = F_onehot_df_given_categ(df, Categorical_features, selected_categ)\n",
      "        return df\n",
      "    else:\n",
      "        df, selected_categ = F_onehot_df(df, Categorical_features)\n",
      "        return df, selected_categ\n",
      "    "
     ],
     "language": "python",
     "metadata": {},
     "outputs": [],
     "prompt_number": 22
    },
    {
     "cell_type": "code",
     "collapsed": false,
     "input": [
      "df, selected_categ = feature_eng(df)"
     ],
     "language": "python",
     "metadata": {},
     "outputs": [
      {
       "output_type": "stream",
       "stream": "stdout",
       "text": [
        "Categorical_features: ['Embarked', 'Sex', 'Title']\n"
       ]
      },
      {
       "output_type": "stream",
       "stream": "stderr",
       "text": [
        "/data/anaconda/lib/python2.7/site-packages/pandas/core/index.py:667: FutureWarning: scalar indexers for index type Int64Index should be integers and not floating point\n",
        "  type(self).__name__),FutureWarning)\n"
       ]
      }
     ],
     "prompt_number": 23
    },
    {
     "cell_type": "code",
     "collapsed": false,
     "input": [
      "df.head()"
     ],
     "language": "python",
     "metadata": {},
     "outputs": [
      {
       "html": [
        "<div style=\"max-height:1000px;max-width:1500px;overflow:auto;\">\n",
        "<table border=\"1\" class=\"dataframe\">\n",
        "  <thead>\n",
        "    <tr style=\"text-align: right;\">\n",
        "      <th></th>\n",
        "      <th>PassengerId</th>\n",
        "      <th>Survived</th>\n",
        "      <th>Pclass</th>\n",
        "      <th>Age</th>\n",
        "      <th>SibSp</th>\n",
        "      <th>Parch</th>\n",
        "      <th>Fare</th>\n",
        "      <th>Age_Class</th>\n",
        "      <th>Embarked_C</th>\n",
        "      <th>Embarked_Q</th>\n",
        "      <th>Sex_female</th>\n",
        "      <th>Title_Col</th>\n",
        "      <th>Title_Don</th>\n",
        "      <th>Title_Dona</th>\n",
        "      <th>Title_Dr</th>\n",
        "      <th>Title_Master</th>\n",
        "      <th>Title_Miss</th>\n",
        "      <th>Title_Mrs</th>\n",
        "      <th>Title_Rev</th>\n",
        "    </tr>\n",
        "  </thead>\n",
        "  <tbody>\n",
        "    <tr>\n",
        "      <th>0</th>\n",
        "      <td>1</td>\n",
        "      <td>0</td>\n",
        "      <td>3</td>\n",
        "      <td>22</td>\n",
        "      <td>1</td>\n",
        "      <td>0</td>\n",
        "      <td>7.2500</td>\n",
        "      <td>66</td>\n",
        "      <td>0</td>\n",
        "      <td>0</td>\n",
        "      <td>0</td>\n",
        "      <td>0</td>\n",
        "      <td>0</td>\n",
        "      <td>0</td>\n",
        "      <td>0</td>\n",
        "      <td>0</td>\n",
        "      <td>0</td>\n",
        "      <td>0</td>\n",
        "      <td>0</td>\n",
        "    </tr>\n",
        "    <tr>\n",
        "      <th>1</th>\n",
        "      <td>2</td>\n",
        "      <td>1</td>\n",
        "      <td>1</td>\n",
        "      <td>38</td>\n",
        "      <td>1</td>\n",
        "      <td>0</td>\n",
        "      <td>71.2833</td>\n",
        "      <td>38</td>\n",
        "      <td>1</td>\n",
        "      <td>0</td>\n",
        "      <td>1</td>\n",
        "      <td>0</td>\n",
        "      <td>0</td>\n",
        "      <td>0</td>\n",
        "      <td>0</td>\n",
        "      <td>0</td>\n",
        "      <td>0</td>\n",
        "      <td>1</td>\n",
        "      <td>0</td>\n",
        "    </tr>\n",
        "    <tr>\n",
        "      <th>2</th>\n",
        "      <td>3</td>\n",
        "      <td>1</td>\n",
        "      <td>3</td>\n",
        "      <td>26</td>\n",
        "      <td>0</td>\n",
        "      <td>0</td>\n",
        "      <td>7.9250</td>\n",
        "      <td>78</td>\n",
        "      <td>0</td>\n",
        "      <td>0</td>\n",
        "      <td>1</td>\n",
        "      <td>0</td>\n",
        "      <td>0</td>\n",
        "      <td>0</td>\n",
        "      <td>0</td>\n",
        "      <td>0</td>\n",
        "      <td>1</td>\n",
        "      <td>0</td>\n",
        "      <td>0</td>\n",
        "    </tr>\n",
        "    <tr>\n",
        "      <th>3</th>\n",
        "      <td>4</td>\n",
        "      <td>1</td>\n",
        "      <td>1</td>\n",
        "      <td>35</td>\n",
        "      <td>1</td>\n",
        "      <td>0</td>\n",
        "      <td>53.1000</td>\n",
        "      <td>35</td>\n",
        "      <td>0</td>\n",
        "      <td>0</td>\n",
        "      <td>1</td>\n",
        "      <td>0</td>\n",
        "      <td>0</td>\n",
        "      <td>0</td>\n",
        "      <td>0</td>\n",
        "      <td>0</td>\n",
        "      <td>0</td>\n",
        "      <td>1</td>\n",
        "      <td>0</td>\n",
        "    </tr>\n",
        "    <tr>\n",
        "      <th>4</th>\n",
        "      <td>5</td>\n",
        "      <td>0</td>\n",
        "      <td>3</td>\n",
        "      <td>35</td>\n",
        "      <td>0</td>\n",
        "      <td>0</td>\n",
        "      <td>8.0500</td>\n",
        "      <td>105</td>\n",
        "      <td>0</td>\n",
        "      <td>0</td>\n",
        "      <td>0</td>\n",
        "      <td>0</td>\n",
        "      <td>0</td>\n",
        "      <td>0</td>\n",
        "      <td>0</td>\n",
        "      <td>0</td>\n",
        "      <td>0</td>\n",
        "      <td>0</td>\n",
        "      <td>0</td>\n",
        "    </tr>\n",
        "  </tbody>\n",
        "</table>\n",
        "</div>"
       ],
       "metadata": {},
       "output_type": "pyout",
       "prompt_number": 24,
       "text": [
        "   PassengerId  Survived  Pclass  Age  SibSp  Parch     Fare  Age_Class  \\\n",
        "0            1         0       3   22      1      0   7.2500         66   \n",
        "1            2         1       1   38      1      0  71.2833         38   \n",
        "2            3         1       3   26      0      0   7.9250         78   \n",
        "3            4         1       1   35      1      0  53.1000         35   \n",
        "4            5         0       3   35      0      0   8.0500        105   \n",
        "\n",
        "   Embarked_C  Embarked_Q  Sex_female  Title_Col  Title_Don  Title_Dona  \\\n",
        "0           0           0           0          0          0           0   \n",
        "1           1           0           1          0          0           0   \n",
        "2           0           0           1          0          0           0   \n",
        "3           0           0           1          0          0           0   \n",
        "4           0           0           0          0          0           0   \n",
        "\n",
        "   Title_Dr  Title_Master  Title_Miss  Title_Mrs  Title_Rev  \n",
        "0         0             0           0          0          0  \n",
        "1         0             0           0          1          0  \n",
        "2         0             0           1          0          0  \n",
        "3         0             0           0          1          0  \n",
        "4         0             0           0          0          0  "
       ]
      }
     ],
     "prompt_number": 24
    },
    {
     "cell_type": "code",
     "collapsed": false,
     "input": [
      "# rearrange column order:\n",
      "#cols = df.columns.tolist()\n",
      "#cols = cols[-1:] + cols[:-1]"
     ],
     "language": "python",
     "metadata": {},
     "outputs": [],
     "prompt_number": 25
    },
    {
     "cell_type": "heading",
     "level": 1,
     "metadata": {},
     "source": [
      "Machine learning algortihms"
     ]
    },
    {
     "cell_type": "markdown",
     "metadata": {},
     "source": [
      "1. **Logistic regression** (sklearn)\n",
      "2. **Random forest** (sklearn)\n",
      "3. **Gradient Boosting** (sklearn)\n",
      "4. **Neural network** (sklearn)\n",
      "5. **My neural network**\n",
      "6. **SVM** (sklearn)"
     ]
    },
    {
     "cell_type": "heading",
     "level": 2,
     "metadata": {},
     "source": [
      "0) First, prepare data"
     ]
    },
    {
     "cell_type": "heading",
     "level": 4,
     "metadata": {},
     "source": [
      "X, y for training:"
     ]
    },
    {
     "cell_type": "code",
     "collapsed": false,
     "input": [
      "# Convert dataframe into np array to be used by sklearn:\n",
      "X = df.values[:,2:] # excluding the feature to be predicted ('survived'), and 'PassengerId'\n",
      "y = df.values[:,1] # only the feature to be predicted\n",
      "# percentage of survivals:\n",
      "float(np.sum(y)) / len(y) * 100."
     ],
     "language": "python",
     "metadata": {},
     "outputs": [
      {
       "metadata": {},
       "output_type": "pyout",
       "prompt_number": 25,
       "text": [
        "38.24521934758155"
       ]
      }
     ],
     "prompt_number": 25
    },
    {
     "cell_type": "code",
     "collapsed": false,
     "input": [
      "#X, y"
     ],
     "language": "python",
     "metadata": {},
     "outputs": [],
     "prompt_number": 26
    },
    {
     "cell_type": "heading",
     "level": 4,
     "metadata": {},
     "source": [
      "X_test for Kaggle:"
     ]
    },
    {
     "cell_type": "code",
     "collapsed": false,
     "input": [
      "df_test = feature_eng(df_test, test=True, selected_categ=selected_categ)    "
     ],
     "language": "python",
     "metadata": {},
     "outputs": [
      {
       "output_type": "stream",
       "stream": "stdout",
       "text": [
        "Categorical_features: ['Embarked', 'Sex', 'Title']\n"
       ]
      }
     ],
     "prompt_number": 29
    },
    {
     "cell_type": "code",
     "collapsed": false,
     "input": [
      "for col in df_test.columns:\n",
      "  print(\"{:15s} {:.1f}%\".format(col, float(df_test[col].isnull().sum()) / df_test.shape[0] * 100))"
     ],
     "language": "python",
     "metadata": {},
     "outputs": [
      {
       "output_type": "stream",
       "stream": "stdout",
       "text": [
        "PassengerId     0.0%\n",
        "Pclass          0.0%\n",
        "Age             0.0%\n",
        "SibSp           0.0%\n",
        "Parch           0.0%\n",
        "Fare            0.0%\n",
        "Age_Class       0.0%\n",
        "Embarked_C      0.0%\n",
        "Embarked_Q      0.0%\n",
        "Sex_female      0.0%\n",
        "Title_Mrs       0.0%\n",
        "Title_Miss      0.0%\n",
        "Title_Master    0.0%\n",
        "Title_Don       0.0%\n",
        "Title_Rev       0.0%\n",
        "Title_Dr        0.0%\n",
        "Title_Col       0.0%\n",
        "Title_Dona      0.0%\n"
       ]
      }
     ],
     "prompt_number": 30
    },
    {
     "cell_type": "code",
     "collapsed": false,
     "input": [
      "df_test.head()"
     ],
     "language": "python",
     "metadata": {},
     "outputs": [
      {
       "html": [
        "<div style=\"max-height:1000px;max-width:1500px;overflow:auto;\">\n",
        "<table border=\"1\" class=\"dataframe\">\n",
        "  <thead>\n",
        "    <tr style=\"text-align: right;\">\n",
        "      <th></th>\n",
        "      <th>PassengerId</th>\n",
        "      <th>Pclass</th>\n",
        "      <th>Age</th>\n",
        "      <th>SibSp</th>\n",
        "      <th>Parch</th>\n",
        "      <th>Fare</th>\n",
        "      <th>Age_Class</th>\n",
        "      <th>Embarked_C</th>\n",
        "      <th>Embarked_Q</th>\n",
        "      <th>Sex_female</th>\n",
        "      <th>Title_Mrs</th>\n",
        "      <th>Title_Miss</th>\n",
        "      <th>Title_Master</th>\n",
        "      <th>Title_Don</th>\n",
        "      <th>Title_Rev</th>\n",
        "      <th>Title_Dr</th>\n",
        "      <th>Title_Col</th>\n",
        "      <th>Title_Dona</th>\n",
        "    </tr>\n",
        "  </thead>\n",
        "  <tbody>\n",
        "    <tr>\n",
        "      <th>0</th>\n",
        "      <td>892</td>\n",
        "      <td>3</td>\n",
        "      <td>34.5</td>\n",
        "      <td>0</td>\n",
        "      <td>0</td>\n",
        "      <td>7.8292</td>\n",
        "      <td>103.5</td>\n",
        "      <td>0</td>\n",
        "      <td>1</td>\n",
        "      <td>0</td>\n",
        "      <td>0</td>\n",
        "      <td>0</td>\n",
        "      <td>0</td>\n",
        "      <td>0</td>\n",
        "      <td>0</td>\n",
        "      <td>0</td>\n",
        "      <td>0</td>\n",
        "      <td>0</td>\n",
        "    </tr>\n",
        "    <tr>\n",
        "      <th>1</th>\n",
        "      <td>893</td>\n",
        "      <td>3</td>\n",
        "      <td>47.0</td>\n",
        "      <td>1</td>\n",
        "      <td>0</td>\n",
        "      <td>7.0000</td>\n",
        "      <td>141.0</td>\n",
        "      <td>0</td>\n",
        "      <td>0</td>\n",
        "      <td>1</td>\n",
        "      <td>1</td>\n",
        "      <td>0</td>\n",
        "      <td>0</td>\n",
        "      <td>0</td>\n",
        "      <td>0</td>\n",
        "      <td>0</td>\n",
        "      <td>0</td>\n",
        "      <td>0</td>\n",
        "    </tr>\n",
        "    <tr>\n",
        "      <th>2</th>\n",
        "      <td>894</td>\n",
        "      <td>2</td>\n",
        "      <td>62.0</td>\n",
        "      <td>0</td>\n",
        "      <td>0</td>\n",
        "      <td>9.6875</td>\n",
        "      <td>124.0</td>\n",
        "      <td>0</td>\n",
        "      <td>1</td>\n",
        "      <td>0</td>\n",
        "      <td>0</td>\n",
        "      <td>0</td>\n",
        "      <td>0</td>\n",
        "      <td>0</td>\n",
        "      <td>0</td>\n",
        "      <td>0</td>\n",
        "      <td>0</td>\n",
        "      <td>0</td>\n",
        "    </tr>\n",
        "    <tr>\n",
        "      <th>3</th>\n",
        "      <td>895</td>\n",
        "      <td>3</td>\n",
        "      <td>27.0</td>\n",
        "      <td>0</td>\n",
        "      <td>0</td>\n",
        "      <td>8.6625</td>\n",
        "      <td>81.0</td>\n",
        "      <td>0</td>\n",
        "      <td>0</td>\n",
        "      <td>0</td>\n",
        "      <td>0</td>\n",
        "      <td>0</td>\n",
        "      <td>0</td>\n",
        "      <td>0</td>\n",
        "      <td>0</td>\n",
        "      <td>0</td>\n",
        "      <td>0</td>\n",
        "      <td>0</td>\n",
        "    </tr>\n",
        "    <tr>\n",
        "      <th>4</th>\n",
        "      <td>896</td>\n",
        "      <td>3</td>\n",
        "      <td>22.0</td>\n",
        "      <td>1</td>\n",
        "      <td>1</td>\n",
        "      <td>12.2875</td>\n",
        "      <td>66.0</td>\n",
        "      <td>0</td>\n",
        "      <td>0</td>\n",
        "      <td>1</td>\n",
        "      <td>1</td>\n",
        "      <td>0</td>\n",
        "      <td>0</td>\n",
        "      <td>0</td>\n",
        "      <td>0</td>\n",
        "      <td>0</td>\n",
        "      <td>0</td>\n",
        "      <td>0</td>\n",
        "    </tr>\n",
        "  </tbody>\n",
        "</table>\n",
        "</div>"
       ],
       "metadata": {},
       "output_type": "pyout",
       "prompt_number": 31,
       "text": [
        "   PassengerId  Pclass   Age  SibSp  Parch     Fare  Age_Class  Embarked_C  \\\n",
        "0          892       3  34.5      0      0   7.8292      103.5           0   \n",
        "1          893       3  47.0      1      0   7.0000      141.0           0   \n",
        "2          894       2  62.0      0      0   9.6875      124.0           0   \n",
        "3          895       3  27.0      0      0   8.6625       81.0           0   \n",
        "4          896       3  22.0      1      1  12.2875       66.0           0   \n",
        "\n",
        "   Embarked_Q  Sex_female  Title_Mrs  Title_Miss  Title_Master  Title_Don  \\\n",
        "0           1           0          0           0             0          0   \n",
        "1           0           1          1           0             0          0   \n",
        "2           1           0          0           0             0          0   \n",
        "3           0           0          0           0             0          0   \n",
        "4           0           1          1           0             0          0   \n",
        "\n",
        "   Title_Rev  Title_Dr  Title_Col  Title_Dona  \n",
        "0          0         0          0           0  \n",
        "1          0         0          0           0  \n",
        "2          0         0          0           0  \n",
        "3          0         0          0           0  \n",
        "4          0         0          0           0  "
       ]
      }
     ],
     "prompt_number": 31
    },
    {
     "cell_type": "code",
     "collapsed": false,
     "input": [
      "X_test = df_test.values[:,1:] # excluding the feature to be predicted ('survived')\n",
      "X_test_PId = df_test.values[:,0]"
     ],
     "language": "python",
     "metadata": {},
     "outputs": [],
     "prompt_number": 32
    },
    {
     "cell_type": "heading",
     "level": 4,
     "metadata": {},
     "source": [
      "Male and female separately"
     ]
    },
    {
     "cell_type": "code",
     "collapsed": false,
     "input": [
      "X_male = df[df['Sex_female']==0].drop(['Sex_female'], axis=1).values[:,2:]\n",
      "y_male = df[df['Sex_female']==0].values[:,1]\n",
      "print 'percentage of survivals:', float(np.sum(y_male)) / len(y_male) * 100.\n",
      "X_female = df[df['Sex_female']==1].drop(['Sex_female'], axis=1).values[:,2:]\n",
      "y_female = df[df['Sex_female']==1].values[:,1]\n",
      "print 'percentage of survivals:', float(np.sum(y_female)) / len(y_female) * 100."
     ],
     "language": "python",
     "metadata": {},
     "outputs": [
      {
       "output_type": "stream",
       "stream": "stdout",
       "text": [
        "percentage of survivals: 18.8908145581\n",
        "percentage of survivals: 74.0384615385\n"
       ]
      }
     ],
     "prompt_number": 33
    },
    {
     "cell_type": "code",
     "collapsed": false,
     "input": [
      "X_male_test = df_test[df_test['Sex_female']==0].drop(['Sex_female'], axis=1).values[:,1:]\n",
      "X_female_test = df_test[df_test['Sex_female']==1].drop(['Sex_female'], axis=1).values[:,1:]\n",
      "# not used:\n",
      "X_male_test_PId = df_test[df_test['Sex_female']==0].values[:,0]\n",
      "X_female_test_PId = df_test[df_test['Sex_female']==1].values[:,0]"
     ],
     "language": "python",
     "metadata": {},
     "outputs": [],
     "prompt_number": 34
    },
    {
     "cell_type": "heading",
     "level": 2,
     "metadata": {},
     "source": [
      "1) Logistic regression (sklearn)"
     ]
    },
    {
     "cell_type": "code",
     "collapsed": false,
     "input": [
      "# We instanciate the classifier.\n",
      "logreg = skl_lm.LogisticRegression()"
     ],
     "language": "python",
     "metadata": {},
     "outputs": [],
     "prompt_number": 35
    },
    {
     "cell_type": "code",
     "collapsed": false,
     "input": [
      "# cross_val_score computes CV scores from (3-fold stratified cross-validation procedure, 3 by default, otherwise 'cv'):\n",
      "cv_scores = skl_cv.cross_val_score(logreg, X, y, cv=10)\n",
      "print cv_scores\n",
      "print np.array(cv_scores).mean()"
     ],
     "language": "python",
     "metadata": {},
     "outputs": [
      {
       "output_type": "stream",
       "stream": "stdout",
       "text": [
        "[ 0.82022472  0.86516854  0.7752809   0.86516854  0.80898876  0.79775281\n",
        "  0.79775281  0.80898876  0.87640449  0.875     ]\n",
        "0.829073033708\n"
       ]
      }
     ],
     "prompt_number": 36
    },
    {
     "cell_type": "code",
     "collapsed": false,
     "input": [
      "# Now lets try different regularization parameters C:\n",
      "grid_logreg = skl_gs.GridSearchCV(logreg, {'C': np.logspace(-5, 5, 200),\n",
      "                                           'penalty': ['l1', 'l2']}, n_jobs=4)\n",
      "#grid_logreg.fit(X_train, y_train)\n",
      "grid_logreg.fit(X, y)\n",
      "grid_logreg.best_params_"
     ],
     "language": "python",
     "metadata": {},
     "outputs": [
      {
       "metadata": {},
       "output_type": "pyout",
       "prompt_number": 37,
       "text": [
        "{'C': 0.66699196630301283, 'penalty': 'l1'}"
       ]
      }
     ],
     "prompt_number": 37
    },
    {
     "cell_type": "code",
     "collapsed": false,
     "input": [
      "# score of logreg classifier with the regularization parameter that gave best result:\n",
      "cv_scores = skl_cv.cross_val_score(grid_logreg.best_estimator_, X, y, cv=10)\n",
      "print cv_scores\n",
      "print np.array(cv_scores).mean()"
     ],
     "language": "python",
     "metadata": {},
     "outputs": [
      {
       "output_type": "stream",
       "stream": "stdout",
       "text": [
        "[ 0.83146067  0.85393258  0.7752809   0.87640449  0.82022472  0.78651685\n",
        "  0.79775281  0.79775281  0.88764045  0.86363636]\n",
        "0.829060265577\n"
       ]
      }
     ],
     "prompt_number": 38
    },
    {
     "cell_type": "code",
     "collapsed": false,
     "input": [
      "#logreg = skl_lm.LogisticRegression(C=1.1895340673703207, penalty='l2')\n",
      "#cv_scores = skl_cv.cross_val_score(logreg, X, y, cv=10)\n",
      "#print cv_scores\n",
      "#print np.array(cv_scores).mean()"
     ],
     "language": "python",
     "metadata": {},
     "outputs": [],
     "prompt_number": 39
    },
    {
     "cell_type": "code",
     "collapsed": false,
     "input": [
      "# We split X and y into train and test datasets.\n",
      "#(X_train, X_test, y_train, y_test) = skl_cv.train_test_split(X, y, test_size=.2)"
     ],
     "language": "python",
     "metadata": {},
     "outputs": [],
     "prompt_number": 40
    },
    {
     "cell_type": "code",
     "collapsed": false,
     "input": [
      "# Make predictions:\n",
      "#y_predicted = grid_logreg.best_estimator_.predict(X_test)   # 1 or 0\n",
      "#y_prob = grid_logreg.best_estimator_.predict_proba(X_test)  # Probability estimates\n",
      "# percentage of success:\n",
      "#success = [1 if y_test[i]==y_predicted[i] else 0 for i in xrange(0,len(y_test))]\n",
      "#float(np.sum(success)) /  len(y_predicted) * 100."
     ],
     "language": "python",
     "metadata": {},
     "outputs": [],
     "prompt_number": 41
    },
    {
     "cell_type": "code",
     "collapsed": false,
     "input": [
      "#plt.figure(figsize=(8, 3))\n",
      "#plt.imshow(np.vstack((y_test, y_predicted)), interpolation='none', cmap='bone')\n",
      "#plt.xticks([]); plt.yticks([])\n",
      "#plt.title((\"Actual and predicted survival outcomes on the test set\"))"
     ],
     "language": "python",
     "metadata": {},
     "outputs": [],
     "prompt_number": 42
    },
    {
     "cell_type": "code",
     "collapsed": false,
     "input": [
      "y_predicted = grid_logreg.best_estimator_.predict(X_test)"
     ],
     "language": "python",
     "metadata": {},
     "outputs": [],
     "prompt_number": 43
    },
    {
     "cell_type": "heading",
     "level": 4,
     "metadata": {},
     "source": [
      "Male and female separately"
     ]
    },
    {
     "cell_type": "code",
     "collapsed": false,
     "input": [
      "logreg_male = skl_lm.LogisticRegression()\n",
      "grid_logreg_male = skl_gs.GridSearchCV(logreg_male, {'C': np.logspace(-5, 5, 200), 'penalty': ['l1', 'l2']}, n_jobs=4)\n",
      "grid_logreg_male.fit(X_male, y_male)\n",
      "print grid_logreg_male.best_params_\n",
      "cv_scores = skl_cv.cross_val_score(grid_logreg_male.best_estimator_, X_male, y_male, cv=10)\n",
      "print cv_scores\n",
      "print np.array(cv_scores).mean()\n",
      "y_male_predicted = grid_logreg_male.best_estimator_.predict(X_male_test)"
     ],
     "language": "python",
     "metadata": {},
     "outputs": [
      {
       "output_type": "stream",
       "stream": "stdout",
       "text": [
        "{'penalty': 'l1', 'C': 0.37399373024788019}\n",
        "[ 0.84482759  0.86206897  0.81034483  0.87931034  0.81034483  0.81034483\n",
        "  0.79310345  0.84482759  0.9122807   0.875     ]\n",
        "0.844245311555\n"
       ]
      }
     ],
     "prompt_number": 44
    },
    {
     "cell_type": "code",
     "collapsed": false,
     "input": [
      "logreg_female = skl_lm.LogisticRegression()\n",
      "grid_logreg_female = skl_gs.GridSearchCV(logreg_female, {'C': np.logspace(-5, 5, 200), 'penalty': ['l1', 'l2']}, n_jobs=4)\n",
      "grid_logreg_female.fit(X_female, y_female)\n",
      "print grid_logreg_female.best_params_\n",
      "cv_scores = skl_cv.cross_val_score(grid_logreg_female.best_estimator_, X_female, y_female, cv=10)\n",
      "print cv_scores\n",
      "print np.array(cv_scores).mean()\n",
      "y_female_predicted = grid_logreg_female.best_estimator_.predict(X_female_test)"
     ],
     "language": "python",
     "metadata": {},
     "outputs": [
      {
       "output_type": "stream",
       "stream": "stdout",
       "text": [
        "{'penalty': 'l1', 'C': 0.47137531341167288}\n",
        "[ 0.81818182  0.77419355  0.77419355  0.74193548  0.83870968  0.80645161\n",
        "  0.87096774  0.87096774  0.87096774  0.87096774]"
       ]
      },
      {
       "output_type": "stream",
       "stream": "stdout",
       "text": [
        "\n",
        "0.823753665689\n"
       ]
      }
     ],
     "prompt_number": 45
    },
    {
     "cell_type": "heading",
     "level": 2,
     "metadata": {},
     "source": [
      "2) Random forest (sklearn)"
     ]
    },
    {
     "cell_type": "code",
     "collapsed": false,
     "input": [
      "#instantiate and fit our model\n",
      "rfc = skl_ens.RandomForestClassifier(n_estimators=100)\n",
      "results_rfc = rfc.fit(X, y)"
     ],
     "language": "python",
     "metadata": {},
     "outputs": [],
     "prompt_number": 46
    },
    {
     "cell_type": "code",
     "collapsed": false,
     "input": [
      "# cross validation:\n",
      "cv = skl_cv.KFold(len(X), n_folds=10)\n",
      "results = []\n",
      "for traincv, testcv in cv:\n",
      "    results.append(rfc.fit(X[traincv], y[traincv]).score(X[testcv], y[testcv]))\n",
      "print results\n",
      "print 'Mean result from CV:', np.array(results).mean()\n",
      "cv_scores = skl_cv.cross_val_score(rfc, X, y, cv=10)\n",
      "print cv_scores\n",
      "print np.array(cv_scores).mean()"
     ],
     "language": "python",
     "metadata": {},
     "outputs": [
      {
       "output_type": "stream",
       "stream": "stdout",
       "text": [
        "[0.7640449438202247, 0.8314606741573034, 0.7640449438202247, 0.8202247191011236, 0.8539325842696629, 0.84269662921348309, 0.797752808988764, 0.7865168539325843, 0.8314606741573034, 0.84090909090909094]\n",
        "Mean result from CV: 0.813304392237\n",
        "[ 0.73033708  0.83146067  0.74157303  0.84269663  0.88764045  0.80898876\n",
        "  0.84269663  0.7752809   0.83146067  0.85227273]"
       ]
      },
      {
       "output_type": "stream",
       "stream": "stdout",
       "text": [
        "\n",
        "0.814440755873\n"
       ]
      }
     ],
     "prompt_number": 47
    },
    {
     "cell_type": "heading",
     "level": 4,
     "metadata": {},
     "source": [
      "Grids on random forest parameters"
     ]
    },
    {
     "cell_type": "heading",
     "level": 5,
     "metadata": {},
     "source": [
      "(\"Fixed\" gives best result but is slower, \"Random\" not so good but is faster so it can explore a larger parameter space)"
     ]
    },
    {
     "cell_type": "heading",
     "level": 5,
     "metadata": {},
     "source": [
      "Fixed grid"
     ]
    },
    {
     "cell_type": "code",
     "collapsed": false,
     "input": [
      "# FIXED grid on rfc parameter:\n",
      "# use a full grid over all parameters\n",
      "param_grid = {\"n_estimators\" : np.logspace(0.7, 2.5, 5).astype(int),\n",
      "              \"max_depth\": [3, None],\n",
      "              \"max_features\": np.linspace(1, np.shape(X)[1], num=4).astype(int),\n",
      "              \"min_samples_split\": [1, 3, 10],\n",
      "              \"min_samples_leaf\": [1, 3, 10]}\n",
      "              #\"bootstrap\": [True, False],           # best was True (default True)\n",
      "              #\"criterion\": [\"gini\", \"entropy\"]}     # best was entropy (defaul gini)\n",
      "t0 = time()\n",
      "grid_rfc = skl_gs.GridSearchCV(rfc, param_grid=param_grid, n_jobs=4)\n",
      "results_rfc = grid_rfc.fit(X, y)\n",
      "print(\"...done in %0.3fs\" % (time() - t0))\n",
      "grid_rfc.best_params_"
     ],
     "language": "python",
     "metadata": {},
     "outputs": [
      {
       "output_type": "stream",
       "stream": "stdout",
       "text": [
        "...done in 83.880s\n"
       ]
      },
      {
       "metadata": {},
       "output_type": "pyout",
       "prompt_number": 49,
       "text": [
        "{'max_depth': None,\n",
        " 'max_features': 6,\n",
        " 'min_samples_leaf': 3,\n",
        " 'min_samples_split': 3,\n",
        " 'n_estimators': 316}"
       ]
      }
     ],
     "prompt_number": 49
    },
    {
     "cell_type": "code",
     "collapsed": false,
     "input": [
      "# score of rfc with the parameters that gave best result:\n",
      "t0 = time()\n",
      "cv_scores = skl_cv.cross_val_score(grid_rfc.best_estimator_, X, y, cv=10)\n",
      "print(\"...done in %0.3fs\" % (time() - t0))\n",
      "print cv_scores\n",
      "print np.array(cv_scores).mean()"
     ],
     "language": "python",
     "metadata": {},
     "outputs": [
      {
       "output_type": "stream",
       "stream": "stdout",
       "text": [
        "...done in 3.605s\n",
        "[ 0.79775281  0.80898876  0.75280899  0.88764045  0.8988764   0.84269663\n",
        "  0.85393258  0.78651685  0.8988764   0.85227273]\n",
        "0.838036261491\n"
       ]
      }
     ],
     "prompt_number": 50
    },
    {
     "cell_type": "heading",
     "level": 5,
     "metadata": {},
     "source": [
      "Random grid"
     ]
    },
    {
     "cell_type": "code",
     "collapsed": false,
     "input": [
      "# RANDOM grid\n",
      "param_dist = {\"n_estimators\" : np.logspace(0.5, 2.7, 20).astype(int),\n",
      "              \"max_depth\": [3, None],\n",
      "              \"max_features\": sp_randint(1, np.shape(X)[1]+1),\n",
      "              \"min_samples_split\": sp_randint(1, 11),\n",
      "              \"min_samples_leaf\": sp_randint(1, 11),\n",
      "              \"bootstrap\": [True, False],\n",
      "              \"criterion\": [\"gini\", \"entropy\"]}\n",
      "\n",
      "rand_grid_rfc = skl_gs.RandomizedSearchCV(rfc, param_distributions=param_dist, n_iter=500, n_jobs=4, pre_dispatch='n_jobs')\n",
      "#rand_grid_rfc.best_params_\n",
      "results_rfc = rand_grid_rfc.fit(X,y)\n",
      "# score of rfc with the parameters that gave best result:\n",
      "cv_scores = skl_cv.cross_val_score(rand_grid_rfc.best_estimator_, X, y, cv=10)\n",
      "print cv_scores\n",
      "print np.array(cv_scores).mean()"
     ],
     "language": "python",
     "metadata": {},
     "outputs": [
      {
       "output_type": "stream",
       "stream": "stdout",
       "text": [
        "[ 0.78651685  0.79775281  0.75280899  0.84269663  0.8988764   0.83146067\n",
        "  0.86516854  0.76404494  0.88764045  0.84090909]\n",
        "0.826787538304\n"
       ]
      }
     ],
     "prompt_number": 51
    },
    {
     "cell_type": "code",
     "collapsed": false,
     "input": [
      "np.shape(X_test)"
     ],
     "language": "python",
     "metadata": {},
     "outputs": [
      {
       "metadata": {},
       "output_type": "pyout",
       "prompt_number": 52,
       "text": [
        "(418, 17)"
       ]
      }
     ],
     "prompt_number": 52
    },
    {
     "cell_type": "code",
     "collapsed": false,
     "input": [
      "y_predicted = results_rfc.predict(X_test)"
     ],
     "language": "python",
     "metadata": {},
     "outputs": [],
     "prompt_number": 53
    },
    {
     "cell_type": "heading",
     "level": 2,
     "metadata": {},
     "source": [
      "3) Gradient Boosting (sklearn)"
     ]
    },
    {
     "cell_type": "code",
     "collapsed": false,
     "input": [
      "gbc = skl_ens.GradientBoostingClassifier()"
     ],
     "language": "python",
     "metadata": {},
     "outputs": [],
     "prompt_number": 54
    },
    {
     "cell_type": "code",
     "collapsed": false,
     "input": [
      "cv_scores = skl_cv.cross_val_score(gbc, X, y, cv=10)\n",
      "print cv_scores\n",
      "print np.array(cv_scores).mean()"
     ],
     "language": "python",
     "metadata": {},
     "outputs": [
      {
       "output_type": "stream",
       "stream": "stdout",
       "text": [
        "[ 0.82022472  0.82022472  0.75280899  0.87640449  0.87640449  0.83146067\n",
        "  0.86516854  0.7752809   0.87640449  0.86363636]\n",
        "0.835801838611\n"
       ]
      }
     ],
     "prompt_number": 55
    },
    {
     "cell_type": "code",
     "collapsed": false,
     "input": [
      "gbc.fit(X,y)\n",
      "y_predicted = gbc.predict(X_test)"
     ],
     "language": "python",
     "metadata": {},
     "outputs": [],
     "prompt_number": 56
    },
    {
     "cell_type": "code",
     "collapsed": false,
     "input": [
      "#with GRID:\n",
      "t0 = time()\n",
      "param_grid = {\"learning_rate\" : np.logspace(-3, 2, 20),\n",
      "              \"n_estimators\" : np.logspace(0.7, 2.5, 20).astype(int)}\n",
      "grid_gbc = skl_gs.GridSearchCV(gbc, param_grid=param_grid, n_jobs=4)\n",
      "grid_gbc.fit(X, y)\n",
      "print(\"...done in %0.3fs\" % (time() - t0))\n",
      "grid_gbc.best_params_"
     ],
     "language": "python",
     "metadata": {},
     "outputs": [
      {
       "output_type": "stream",
       "stream": "stdout",
       "text": [
        "...done in 69.391s\n"
       ]
      },
      {
       "metadata": {},
       "output_type": "pyout",
       "prompt_number": 57,
       "text": [
        "{'learning_rate': 0.011288378916846888, 'n_estimators': 204}"
       ]
      }
     ],
     "prompt_number": 57
    },
    {
     "cell_type": "code",
     "collapsed": false,
     "input": [
      "#grid_gbc.predict(X_test)"
     ],
     "language": "python",
     "metadata": {},
     "outputs": [],
     "prompt_number": 58
    },
    {
     "cell_type": "code",
     "collapsed": false,
     "input": [
      "# TINC LA IMPRESSIO QUE AQUEST CV RECORRE TOT ELS PARAMETRES DE LA GRID (NO NOMES PER LA MILLOR COMBINACIO)\n",
      "#cv_scores = skl_cv.cross_val_score(grid_gbc, X, y, cv=10)\n",
      "#print cv_scores\n",
      "#print np.array(cv_scores).mean()"
     ],
     "language": "python",
     "metadata": {},
     "outputs": [],
     "prompt_number": 59
    },
    {
     "cell_type": "code",
     "collapsed": false,
     "input": [
      "# Tanmateix, provant amb els \"best_params\" obtinc pitjor cv score que amb els default....\n",
      "t0 = time()\n",
      "gbc = skl_ens.GradientBoostingClassifier(learning_rate= 0.011288379, n_estimators=204)\n",
      "cv_scores = skl_cv.cross_val_score(gbc, X, y, cv=10)\n",
      "print(\"...done in %0.3fs\" % (time() - t0))\n",
      "print cv_scores\n",
      "print np.array(cv_scores).mean()"
     ],
     "language": "python",
     "metadata": {},
     "outputs": [
      {
       "output_type": "stream",
       "stream": "stdout",
       "text": [
        "...done in 2.479s\n",
        "[ 0.80898876  0.83146067  0.76404494  0.88764045  0.85393258  0.7752809\n",
        "  0.79775281  0.7752809   0.88764045  0.86363636]\n",
        "0.824565883555\n"
       ]
      }
     ],
     "prompt_number": 60
    },
    {
     "cell_type": "code",
     "collapsed": false,
     "input": [
      "gbc.fit(X,y)\n",
      "cv_scores = skl_cv.cross_val_score(gbc, X, y, cv=10)\n",
      "print cv_scores\n",
      "print np.array(cv_scores).mean()"
     ],
     "language": "python",
     "metadata": {},
     "outputs": [
      {
       "output_type": "stream",
       "stream": "stdout",
       "text": [
        "[ 0.80898876  0.83146067  0.76404494  0.88764045  0.85393258  0.7752809\n",
        "  0.79775281  0.7752809   0.88764045  0.86363636]\n",
        "0.824565883555\n"
       ]
      }
     ],
     "prompt_number": 61
    },
    {
     "cell_type": "code",
     "collapsed": false,
     "input": [
      "y_predicted = gbc.predict(X_test)"
     ],
     "language": "python",
     "metadata": {},
     "outputs": [],
     "prompt_number": 63
    },
    {
     "cell_type": "heading",
     "level": 2,
     "metadata": {},
     "source": [
      "4) Neural network (sklearn)"
     ]
    },
    {
     "cell_type": "code",
     "collapsed": false,
     "input": [
      "# Pipeline: neural network with logistic regression\n",
      "# neural network:\n",
      "rbm = skl_nn.BernoulliRBM() # random_state=0\n",
      "# logistic regression with the parameters fit in previous grid:\n",
      "#logreg = skl_lm.LogisticRegression(C=1.1224505680853059, penalty='l2')\n",
      "logreg = skl_lm.LogisticRegression()\n",
      "# neural network with logistic regression:\n",
      "nnclassifier = skl_pip.Pipeline(steps=[('rbm', rbm), ('logreg', logreg)])"
     ],
     "language": "python",
     "metadata": {},
     "outputs": [],
     "prompt_number": 64
    },
    {
     "cell_type": "code",
     "collapsed": false,
     "input": [
      "# grid for nn params (trying to fit only the nn ones, logistic now token from before)\n",
      "param_grid = {\"rbm__learning_rate\" : np.logspace(-8, 2, 5),\n",
      "              \"rbm__n_iter\" : np.linspace(5, 50, num=3).astype(int),\n",
      "              \"logreg__C\" : np.logspace(-5, 7, 10)}\n",
      "#              \"logreg__penalty\" : ['l1', 'l2'] }\n",
      "grid_nn = skl_gs.GridSearchCV(nnclassifier, param_grid=param_grid, n_jobs=4)\n",
      "print 'grid created, now fitting...'\n",
      "t0 = time()\n",
      "grid_nn.fit(X, y)\n",
      "print(\"...done in %0.3fs\" % (time() - t0))"
     ],
     "language": "python",
     "metadata": {},
     "outputs": [
      {
       "output_type": "stream",
       "stream": "stdout",
       "text": [
        "grid created, now fitting...\n"
       ]
      },
      {
       "output_type": "stream",
       "stream": "stdout",
       "text": [
        "...done in 296.435s\n"
       ]
      }
     ],
     "prompt_number": 65
    },
    {
     "cell_type": "code",
     "collapsed": false,
     "input": [
      "print(\"Best score: %0.3f\" % grid_nn.best_score_)\n",
      "print(\"Best parameters set:\")\n",
      "best_parameters = grid_nn.best_estimator_.get_params()\n",
      "for param_name in sorted(param_grid.keys()):\n",
      "    print(\"\\t%s: %r\" % (param_name, best_parameters[param_name]))\n",
      "#grid_nn.best_params_"
     ],
     "language": "python",
     "metadata": {},
     "outputs": [
      {
       "output_type": "stream",
       "stream": "stdout",
       "text": [
        "Best score: 0.822\n",
        "Best parameters set:\n",
        "\tlogreg__C: 21544.346900318778\n",
        "\trbm__learning_rate: 1e-08\n",
        "\trbm__n_iter: 5\n"
       ]
      }
     ],
     "prompt_number": 66
    },
    {
     "cell_type": "code",
     "collapsed": false,
     "input": [
      "# is the same doing grid_nn.predict(X_test) or grid_nn.best_estimator_.predict(X_test)\n",
      "y_predicted = grid_nn.predict(X_test)"
     ],
     "language": "python",
     "metadata": {},
     "outputs": [],
     "prompt_number": 67
    },
    {
     "cell_type": "code",
     "collapsed": false,
     "input": [
      "# comentat pq tarda segles en calcular (TRIGA INFINIT MES QUE ELS PROCEDIMENTS ANTERIORS):\n",
      "#cv_scores = skl_cv.cross_val_score(grid_nn, X, y, cv=10)\n",
      "#print cv_scores\n",
      "#print np.array(cv_scores).mean()"
     ],
     "language": "python",
     "metadata": {},
     "outputs": [],
     "prompt_number": 68
    },
    {
     "cell_type": "heading",
     "level": 2,
     "metadata": {},
     "source": [
      "5) My neural network (not correctly implemented, gives 45% acc)"
     ]
    },
    {
     "cell_type": "code",
     "collapsed": false,
     "input": [
      "#y_for_nn = [[1,0] if elem==0 else [0,1] for elem in y]\n",
      "#y_for_nn = np.asarray(y_for_nn)"
     ],
     "language": "python",
     "metadata": {},
     "outputs": [],
     "prompt_number": 69
    },
    {
     "cell_type": "code",
     "collapsed": false,
     "input": [
      "#NN = mynn.NeuralNetwork(X, y_for_nn, L=5, lambdas = np.r_[[0],np.logspace(-6, 1, 15)], numiter=100000)\n",
      "#NN.F_printnninfo()"
     ],
     "language": "python",
     "metadata": {},
     "outputs": [],
     "prompt_number": 70
    },
    {
     "cell_type": "code",
     "collapsed": false,
     "input": [
      "#NN.F_traintest()"
     ],
     "language": "python",
     "metadata": {},
     "outputs": [],
     "prompt_number": 71
    },
    {
     "cell_type": "code",
     "collapsed": false,
     "input": [
      "#NN.F_printnnresults()"
     ],
     "language": "python",
     "metadata": {},
     "outputs": [],
     "prompt_number": 72
    },
    {
     "cell_type": "code",
     "collapsed": false,
     "input": [
      "#y_predicted = NN.predict(X_test)"
     ],
     "language": "python",
     "metadata": {},
     "outputs": [],
     "prompt_number": 73
    },
    {
     "cell_type": "heading",
     "level": 2,
     "metadata": {},
     "source": [
      "6) SVM (sklearn)"
     ]
    },
    {
     "cell_type": "markdown",
     "metadata": {},
     "source": [
      "!!! SVM only supports classification, use sklearn.svm.SVR instead !!!"
     ]
    },
    {
     "cell_type": "code",
     "collapsed": false,
     "input": [
      "# initializes SVM:\n",
      "#     kernel can be poly, rbf or linear, adjusting the gamma level also changes the degree to which the model is fitted)\n",
      "svm = skl_svm.SVC(kernel='rbf', gamma=0.0, tol=1.e-3) # had gamma=3, max_iter=1000000\n",
      "\n",
      "# trains model:\n",
      "svm.fit(X, y)"
     ],
     "language": "python",
     "metadata": {},
     "outputs": [
      {
       "metadata": {},
       "output_type": "pyout",
       "prompt_number": 74,
       "text": [
        "SVC(C=1.0, cache_size=200, class_weight=None, coef0=0.0, degree=3, gamma=0.0,\n",
        "  kernel='rbf', max_iter=-1, probability=False, random_state=None,\n",
        "  shrinking=True, tol=0.001, verbose=False)"
       ]
      }
     ],
     "prompt_number": 74
    },
    {
     "cell_type": "code",
     "collapsed": false,
     "input": [
      "cv_scores = skl_cv.cross_val_score(svm, X, y, cv=10)\n",
      "print cv_scores\n",
      "print np.array(cv_scores).mean()"
     ],
     "language": "python",
     "metadata": {},
     "outputs": [
      {
       "output_type": "stream",
       "stream": "stdout",
       "text": [
        "[ 0.65168539  0.6741573   0.65168539  0.64044944  0.79775281  0.65168539\n",
        "  0.70786517  0.73033708  0.69662921  0.69318182]\n",
        "0.689542900919\n"
       ]
      }
     ],
     "prompt_number": 75
    },
    {
     "cell_type": "code",
     "collapsed": false,
     "input": [
      "#with GRID:\n",
      "svm = skl_svm.SVC()\n",
      "param_grid = {\"kernel\" : ['rbf'], # ['poly', 'linear', 'rbf', 'sigmoid' ],\n",
      "              \"C\" : np.logspace(-2, 2, 4)}\n",
      "grid_svm = skl_gs.GridSearchCV(svm, param_grid=param_grid, n_jobs=4)\n",
      "grid_svm.fit(X, y)\n",
      "grid_svm.best_params_"
     ],
     "language": "python",
     "metadata": {},
     "outputs": [
      {
       "metadata": {},
       "output_type": "pyout",
       "prompt_number": 76,
       "text": [
        "{'C': 4.6415888336127775, 'kernel': 'rbf'}"
       ]
      }
     ],
     "prompt_number": 76
    },
    {
     "cell_type": "code",
     "collapsed": false,
     "input": [
      "cv_scores = skl_cv.cross_val_score(grid_svm.best_estimator_, X, y, cv=10)\n",
      "print cv_scores\n",
      "print np.array(cv_scores).mean()"
     ],
     "language": "python",
     "metadata": {},
     "outputs": [
      {
       "output_type": "stream",
       "stream": "stdout",
       "text": [
        "[ 0.66292135  0.7752809   0.6741573   0.6741573   0.85393258  0.66292135\n",
        "  0.71910112  0.75280899  0.70786517  0.73863636]\n",
        "0.722178243105\n"
       ]
      }
     ],
     "prompt_number": 77
    },
    {
     "cell_type": "heading",
     "level": 1,
     "metadata": {},
     "source": [
      "Print results for Kaggle:"
     ]
    },
    {
     "cell_type": "code",
     "collapsed": false,
     "input": [
      "df_res = pd.DataFrame(zip(df_test['PassengerId'].values, y_predicted), columns=['PassengerId','Survived'])\n",
      "outfilename = 'Titanic_predictions.csv'\n",
      "df_res.to_csv(outfilename, float_format='%i', index=False) #, header=['id','click'])"
     ],
     "language": "python",
     "metadata": {},
     "outputs": [],
     "prompt_number": 81
    },
    {
     "cell_type": "heading",
     "level": 4,
     "metadata": {},
     "source": [
      "Only for male/female separate predictors:"
     ]
    },
    {
     "cell_type": "code",
     "collapsed": false,
     "input": [
      "i_m=0\n",
      "i_f=0\n",
      "y_predicted = []\n",
      "for PId in df_test['PassengerId'].values:\n",
      "    if df_test['Sex_female'][df_test['PassengerId']==PId].values == 0:\n",
      "        #print 'M:',PId, X_male_test_PId[i_m], int(y_male_predicted[i_m])\n",
      "        y_predicted.append(int(y_male_predicted[i_m]))\n",
      "        i_m = i_m + 1\n",
      "    else:\n",
      "        #print 'F:',PId, X_female_test_PId[i_f], int(y_female_predicted[i_f])\n",
      "        y_predicted.append(int(y_female_predicted[i_f]))\n",
      "        i_f = i_f +1"
     ],
     "language": "python",
     "metadata": {},
     "outputs": [],
     "prompt_number": 82
    }
   ],
   "metadata": {}
  }
 ]
}